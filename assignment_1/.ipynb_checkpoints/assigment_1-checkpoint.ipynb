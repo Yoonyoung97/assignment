{
 "cells": [
  {
   "cell_type": "code",
   "execution_count": 3,
   "metadata": {},
   "outputs": [],
   "source": [
    "import sys\n",
    "#inp = open(\"./cards.inp\", \"r\")\n"
   ]
  },
  {
   "cell_type": "code",
   "execution_count": 14,
   "metadata": {},
   "outputs": [
    {
     "name": "stdout",
     "output_type": "stream",
     "text": [
      "Append :: 98\n",
      "Append :: 234\n",
      "98\n",
      "\n",
      "234\n",
      "\n"
     ]
    }
   ],
   "source": [
    "if __name__ == \"__main__\":\n",
    "    assignment(\"./cards.inp\")\n",
    "    out = open(\"./cards.out\", \"r\")\n",
    "    for i in out:\n",
    "        print(i)"
   ]
  },
  {
   "cell_type": "code",
   "execution_count": 11,
   "metadata": {},
   "outputs": [],
   "source": [
    "def assignment(path):\n",
    "    inp = open(path, \"r\")\n",
    "    count = int(inp.readline().rstrip('\\n'))\n",
    "    out = open(\"./cards.out\", \"w\")\n",
    "    iterator = 1\n",
    "    nofChange = 0\n",
    "    isChange = False\n",
    "\n",
    "    while nofChange !=2:\n",
    "        isChange = False\n",
    "        inp = open(path, \"r\")\n",
    "        inp.readline()\n",
    "        for i in range(count):\n",
    "            data = inp.readline()\n",
    "            if not data:\n",
    "                break\n",
    "            else:\n",
    "                data = int(data.rstrip('\\n'))\n",
    "                if iterator == data:\n",
    "                    iterator+=1\n",
    "                    isChange = True\n",
    "        if not isChange:\n",
    "            print(\"Append :: \" + str(iterator))\n",
    "            out.write(str(iterator)+'\\n')\n",
    "            iterator+=1\n",
    "            nofChange+=1\n",
    " "
   ]
  },
  {
   "cell_type": "code",
   "execution_count": null,
   "metadata": {},
   "outputs": [],
   "source": []
  }
 ],
 "metadata": {
  "kernelspec": {
   "display_name": "Python 3",
   "language": "python",
   "name": "python3"
  },
  "language_info": {
   "codemirror_mode": {
    "name": "ipython",
    "version": 3
   },
   "file_extension": ".py",
   "mimetype": "text/x-python",
   "name": "python",
   "nbconvert_exporter": "python",
   "pygments_lexer": "ipython3",
   "version": "3.7.3"
  }
 },
 "nbformat": 4,
 "nbformat_minor": 4
}
