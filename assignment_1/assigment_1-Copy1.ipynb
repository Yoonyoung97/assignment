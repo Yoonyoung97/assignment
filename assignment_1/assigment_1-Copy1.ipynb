{
 "cells": [
  {
   "cell_type": "code",
   "execution_count": 3,
   "metadata": {},
   "outputs": [],
   "source": [
    "import sys\n",
    "#inp = open(\"./cards.inp\", \"r\")\n"
   ]
  },
  {
   "cell_type": "code",
   "execution_count": 25,
   "metadata": {},
   "outputs": [
    {
     "name": "stdout",
     "output_type": "stream",
     "text": [
      "10\n"
     ]
    }
   ],
   "source": [
    "if __name__ == \"__main__\":\n",
    "    assignment()"
   ]
  },
  {
   "cell_type": "code",
   "execution_count": 85,
   "metadata": {},
   "outputs": [
    {
     "name": "stdout",
     "output_type": "stream",
     "text": [
      "append\n",
      "append\n"
     ]
    }
   ],
   "source": [
    "inp = open(\"./sample/2.inp\", \"r\")\n",
    "count = int(inp.readline().rstrip('\\n'))\n",
    "out = open(\"./cards.out\", \"w\")\n",
    "iterator = 1\n",
    "nofChange = 0\n",
    "isChange = False\n",
    "\n",
    "while True:\n",
    "    isChange = False\n",
    "    inp = open(\"./sample/2.inp\", \"r\")\n",
    "    inp.readline()\n",
    "    for i in range(count):\n",
    "        data = inp.readline()\n",
    "        if not data:\n",
    "            break\n",
    "        else:\n",
    "            data = int(data.rstrip('\\n'))\n",
    "            if iterator == data:\n",
    "                iterator+=1\n",
    "                isChange = True\n",
    "    if not isChange:\n",
    "        print(\"append\")\n",
    "        out.write(str(iterator)+'\\n')\n",
    "        iterator+=1\n",
    "        nofChange+=1\n",
    "    if nofChange == 2:\n",
    "        break"
   ]
  },
  {
   "cell_type": "code",
   "execution_count": 86,
   "metadata": {},
   "outputs": [
    {
     "name": "stdout",
     "output_type": "stream",
     "text": [
      "98\n",
      "\n",
      "234\n",
      "\n"
     ]
    }
   ],
   "source": [
    "for i in out:\n",
    "    print(i)\n",
    "                \n",
    "        "
   ]
  },
  {
   "cell_type": "code",
   "execution_count": null,
   "metadata": {},
   "outputs": [],
   "source": []
  }
 ],
 "metadata": {
  "kernelspec": {
   "display_name": "Python 3",
   "language": "python",
   "name": "python3"
  },
  "language_info": {
   "codemirror_mode": {
    "name": "ipython",
    "version": 3
   },
   "file_extension": ".py",
   "mimetype": "text/x-python",
   "name": "python",
   "nbconvert_exporter": "python",
   "pygments_lexer": "ipython3",
   "version": "3.7.3"
  }
 },
 "nbformat": 4,
 "nbformat_minor": 4
}
