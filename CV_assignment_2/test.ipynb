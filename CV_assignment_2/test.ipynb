{
 "cells": [
  {
   "cell_type": "code",
   "execution_count": 1,
   "metadata": {
    "ExecuteTime": {
     "start_time": "2020-03-08T05:43:54.912Z"
    }
   },
   "outputs": [
    {
     "name": "stdout",
     "output_type": "stream",
     "text": [
      "Number of keypoints read: 694\n",
      "Number of keypoints read: 579\n",
      "Number of keypoints read: 694\n",
      "Number of keypoints read: 579\n"
     ]
    },
    {
     "ename": "AssertionError",
     "evalue": "",
     "output_type": "error",
     "traceback": [
      "\u001b[1;31m---------------------------------------------------------------------------\u001b[0m",
      "\u001b[1;31mAssertionError\u001b[0m                            Traceback (most recent call last)",
      "\u001b[1;32m<ipython-input-1-20977c7ddd0f>\u001b[0m in \u001b[0;36m<module>\u001b[1;34m\u001b[0m\n\u001b[0;32m     19\u001b[0m \u001b[1;33m\u001b[0m\u001b[0m\n\u001b[0;32m     20\u001b[0m \u001b[1;32mif\u001b[0m \u001b[0m__name__\u001b[0m \u001b[1;33m==\u001b[0m \u001b[1;34m'__main__'\u001b[0m\u001b[1;33m:\u001b[0m\u001b[1;33m\u001b[0m\u001b[1;33m\u001b[0m\u001b[0m\n\u001b[1;32m---> 21\u001b[1;33m     \u001b[0mmain\u001b[0m\u001b[1;33m(\u001b[0m\u001b[1;33m)\u001b[0m\u001b[1;33m\u001b[0m\u001b[1;33m\u001b[0m\u001b[0m\n\u001b[0m",
      "\u001b[1;32m<ipython-input-1-20977c7ddd0f>\u001b[0m in \u001b[0;36mmain\u001b[1;34m()\u001b[0m\n\u001b[0;32m     14\u001b[0m     im = utils.MatchRANSAC(\n\u001b[0;32m     15\u001b[0m         \u001b[1;34m'./data/scene'\u001b[0m\u001b[1;33m,\u001b[0m \u001b[1;34m'./data/basmati'\u001b[0m\u001b[1;33m,\u001b[0m\u001b[1;33m\u001b[0m\u001b[1;33m\u001b[0m\u001b[0m\n\u001b[1;32m---> 16\u001b[1;33m         ratio_thres=0.6, orient_agreement=30, scale_agreement=0.5)\n\u001b[0m\u001b[0;32m     17\u001b[0m     \u001b[0mplt\u001b[0m\u001b[1;33m.\u001b[0m\u001b[0mtitle\u001b[0m\u001b[1;33m(\u001b[0m\u001b[1;34m'MatchRANSAC'\u001b[0m\u001b[1;33m)\u001b[0m\u001b[1;33m\u001b[0m\u001b[1;33m\u001b[0m\u001b[0m\n\u001b[0;32m     18\u001b[0m     \u001b[0mplt\u001b[0m\u001b[1;33m.\u001b[0m\u001b[0mimshow\u001b[0m\u001b[1;33m(\u001b[0m\u001b[0mim\u001b[0m\u001b[1;33m)\u001b[0m\u001b[1;33m\u001b[0m\u001b[1;33m\u001b[0m\u001b[0m\n",
      "\u001b[1;32m~\\workspace\\assignment\\CV_assignment_2\\hw_utils.py\u001b[0m in \u001b[0;36mMatchRANSAC\u001b[1;34m(image1, image2, ratio_thres, orient_agreement, scale_agreement)\u001b[0m\n\u001b[0;32m     28\u001b[0m         \u001b[0mkeypoints1\u001b[0m\u001b[1;33m,\u001b[0m \u001b[0mkeypoints2\u001b[0m\u001b[1;33m,\u001b[0m\u001b[1;33m\u001b[0m\u001b[1;33m\u001b[0m\u001b[0m\n\u001b[0;32m     29\u001b[0m         \u001b[0mdescriptors1\u001b[0m\u001b[1;33m,\u001b[0m \u001b[0mdescriptors2\u001b[0m\u001b[1;33m,\u001b[0m\u001b[1;33m\u001b[0m\u001b[1;33m\u001b[0m\u001b[0m\n\u001b[1;32m---> 30\u001b[1;33m         ratio_thres, orient_agreement, scale_agreement)\n\u001b[0m\u001b[0;32m     31\u001b[0m     matched_pairs = [\n\u001b[0;32m     32\u001b[0m         [keypoints1[i], keypoints2[j]] for (i, j) in matched_pairs]\n",
      "\u001b[1;32m~\\workspace\\assignment\\CV_assignment_2\\solution.py\u001b[0m in \u001b[0;36mFindBestMatchesRANSAC\u001b[1;34m(keypoints1, keypoints2, descriptors1, descriptors2, threshold, orient_agreement, scale_agreement)\u001b[0m\n\u001b[0;32m    185\u001b[0m     matched_pairs_ransac = RANSACFilter(\n\u001b[0;32m    186\u001b[0m         \u001b[0mmatched_pairs\u001b[0m\u001b[1;33m,\u001b[0m \u001b[0mkeypoints1\u001b[0m\u001b[1;33m,\u001b[0m \u001b[0mkeypoints2\u001b[0m\u001b[1;33m,\u001b[0m\u001b[1;33m\u001b[0m\u001b[1;33m\u001b[0m\u001b[0m\n\u001b[1;32m--> 187\u001b[1;33m         orient_agreement, scale_agreement)\n\u001b[0m\u001b[0;32m    188\u001b[0m     \u001b[1;32mreturn\u001b[0m \u001b[0mmatched_pairs_ransac\u001b[0m\u001b[1;33m\u001b[0m\u001b[1;33m\u001b[0m\u001b[0m\n",
      "\u001b[1;32m~\\workspace\\assignment\\CV_assignment_2\\solution.py\u001b[0m in \u001b[0;36mRANSACFilter\u001b[1;34m(matched_pairs, keypoints1, keypoints2, orient_agreement, scale_agreement)\u001b[0m\n\u001b[0;32m     25\u001b[0m            \u001b[1;32min\u001b[0m \u001b[0mthe\u001b[0m \u001b[0massignment\u001b[0m \u001b[0minstructions\u001b[0m\u001b[1;33m.\u001b[0m\u001b[1;33m\u001b[0m\u001b[1;33m\u001b[0m\u001b[0m\n\u001b[0;32m     26\u001b[0m     \"\"\"\n\u001b[1;32m---> 27\u001b[1;33m     \u001b[1;32massert\u001b[0m \u001b[0misinstance\u001b[0m\u001b[1;33m(\u001b[0m\u001b[0mmatched_pairs\u001b[0m\u001b[1;33m,\u001b[0m \u001b[0mlist\u001b[0m\u001b[1;33m)\u001b[0m\u001b[1;33m\u001b[0m\u001b[1;33m\u001b[0m\u001b[0m\n\u001b[0m\u001b[0;32m     28\u001b[0m     \u001b[1;32massert\u001b[0m \u001b[0misinstance\u001b[0m\u001b[1;33m(\u001b[0m\u001b[0mkeypoints1\u001b[0m\u001b[1;33m,\u001b[0m \u001b[0mnp\u001b[0m\u001b[1;33m.\u001b[0m\u001b[0mndarray\u001b[0m\u001b[1;33m)\u001b[0m\u001b[1;33m\u001b[0m\u001b[1;33m\u001b[0m\u001b[0m\n\u001b[0;32m     29\u001b[0m     \u001b[1;32massert\u001b[0m \u001b[0misinstance\u001b[0m\u001b[1;33m(\u001b[0m\u001b[0mkeypoints2\u001b[0m\u001b[1;33m,\u001b[0m \u001b[0mnp\u001b[0m\u001b[1;33m.\u001b[0m\u001b[0mndarray\u001b[0m\u001b[1;33m)\u001b[0m\u001b[1;33m\u001b[0m\u001b[1;33m\u001b[0m\u001b[0m\n",
      "\u001b[1;31mAssertionError\u001b[0m: "
     ]
    }
   ],
   "source": [
    "import hw_utils as utils\n",
    "import matplotlib.pyplot as plt\n",
    "\n",
    "\n",
    "def main():\n",
    "    # Test run matching with no ransac\n",
    "    plt.figure(figsize=(20, 20))\n",
    "    im = utils.Match('./data/scene', './data/basmati', ratio_thres=0.6)\n",
    "    plt.title('Match')\n",
    "    plt.imshow(im)\n",
    "\n",
    "    # Test run matching with ransac\n",
    "    plt.figure(figsize=(20, 20))\n",
    "    im = utils.MatchRANSAC(\n",
    "        './data/scene', './data/basmati',\n",
    "        ratio_thres=0.6, orient_agreement=30, scale_agreement=0.5)\n",
    "    plt.title('MatchRANSAC')\n",
    "    plt.imshow(im)\n",
    "\n",
    "if __name__ == '__main__':\n",
    "    main()\n"
   ]
  }
 ],
 "metadata": {
  "kernelspec": {
   "display_name": "Python 3",
   "language": "python",
   "name": "python3"
  },
  "language_info": {
   "codemirror_mode": {
    "name": "ipython",
    "version": 3
   },
   "file_extension": ".py",
   "mimetype": "text/x-python",
   "name": "python",
   "nbconvert_exporter": "python",
   "pygments_lexer": "ipython3",
   "version": "3.7.4"
  },
  "toc": {
   "base_numbering": 1,
   "nav_menu": {},
   "number_sections": true,
   "sideBar": true,
   "skip_h1_title": false,
   "title_cell": "Table of Contents",
   "title_sidebar": "Contents",
   "toc_cell": false,
   "toc_position": {},
   "toc_section_display": true,
   "toc_window_display": false
  }
 },
 "nbformat": 4,
 "nbformat_minor": 4
}
