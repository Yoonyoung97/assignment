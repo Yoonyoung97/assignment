{
 "cells": [
  {
   "cell_type": "code",
   "execution_count": 2,
   "metadata": {
    "ExecuteTime": {
     "end_time": "2020-03-08T05:43:55.181941Z",
     "start_time": "2020-03-08T05:43:54.947367Z"
    }
   },
   "outputs": [
    {
     "ename": "IndentationError",
     "evalue": "unexpected indent (solution.py, line 106)",
     "output_type": "error",
     "traceback": [
      "Traceback \u001b[0;36m(most recent call last)\u001b[0m:\n",
      "  File \u001b[1;32m\"/Users/Yoon/anaconda3/lib/python3.7/site-packages/IPython/core/interactiveshell.py\"\u001b[0m, line \u001b[1;32m3325\u001b[0m, in \u001b[1;35mrun_code\u001b[0m\n    exec(code_obj, self.user_global_ns, self.user_ns)\n",
      "  File \u001b[1;32m\"<ipython-input-2-90cc93967909>\"\u001b[0m, line \u001b[1;32m1\u001b[0m, in \u001b[1;35m<module>\u001b[0m\n    import hw_utils as utils\n",
      "\u001b[0;36m  File \u001b[0;32m\"/Users/Yoon/workspace/assignment/assignment/CV_assignment_2/원본/hw_utils.py\"\u001b[0;36m, line \u001b[0;32m5\u001b[0;36m, in \u001b[0;35m<module>\u001b[0;36m\u001b[0m\n\u001b[0;31m    import solution as sol\u001b[0m\n",
      "\u001b[0;36m  File \u001b[0;32m\"/Users/Yoon/workspace/assignment/assignment/CV_assignment_2/원본/solution.py\"\u001b[0;36m, line \u001b[0;32m106\u001b[0m\n\u001b[0;31m    assert isinstance(xy_points, np.ndarray)\u001b[0m\n\u001b[0m    ^\u001b[0m\n\u001b[0;31mIndentationError\u001b[0m\u001b[0;31m:\u001b[0m unexpected indent\n"
     ]
    }
   ],
   "source": [
    "import hw_utils as utils\n",
    "import matplotlib.pyplot as plt\n",
    "import cv2\n",
    "import numpy as np\n",
    "# def main():\n"
   ]
  },
  {
   "cell_type": "code",
   "execution_count": 3,
   "metadata": {
    "ExecuteTime": {
     "start_time": "2020-03-08T05:43:54.912Z"
    }
   },
   "outputs": [
    {
     "ename": "NameError",
     "evalue": "name 'plt' is not defined",
     "output_type": "error",
     "traceback": [
      "\u001b[0;31m---------------------------------------------------------------------------\u001b[0m",
      "\u001b[0;31mNameError\u001b[0m                                 Traceback (most recent call last)",
      "\u001b[0;32m<ipython-input-3-05ef9ab7c8ca>\u001b[0m in \u001b[0;36m<module>\u001b[0;34m\u001b[0m\n\u001b[1;32m      1\u001b[0m \u001b[0;31m# Test run matching with no ransac\u001b[0m\u001b[0;34m\u001b[0m\u001b[0;34m\u001b[0m\u001b[0;34m\u001b[0m\u001b[0m\n\u001b[0;32m----> 2\u001b[0;31m \u001b[0mplt\u001b[0m\u001b[0;34m.\u001b[0m\u001b[0mfigure\u001b[0m\u001b[0;34m(\u001b[0m\u001b[0mfigsize\u001b[0m\u001b[0;34m=\u001b[0m\u001b[0;34m(\u001b[0m\u001b[0;36m20\u001b[0m\u001b[0;34m,\u001b[0m \u001b[0;36m20\u001b[0m\u001b[0;34m)\u001b[0m\u001b[0;34m)\u001b[0m\u001b[0;34m\u001b[0m\u001b[0;34m\u001b[0m\u001b[0m\n\u001b[0m\u001b[1;32m      3\u001b[0m \u001b[0mim\u001b[0m \u001b[0;34m=\u001b[0m \u001b[0mutils\u001b[0m\u001b[0;34m.\u001b[0m\u001b[0mMatch\u001b[0m\u001b[0;34m(\u001b[0m\u001b[0;34m'./data/scene'\u001b[0m\u001b[0;34m,\u001b[0m \u001b[0;34m'./data/basmati'\u001b[0m\u001b[0;34m,\u001b[0m \u001b[0mratio_thres\u001b[0m\u001b[0;34m=\u001b[0m\u001b[0;36m0.6\u001b[0m\u001b[0;34m)\u001b[0m\u001b[0;34m\u001b[0m\u001b[0;34m\u001b[0m\u001b[0m\n\u001b[1;32m      4\u001b[0m \u001b[0mplt\u001b[0m\u001b[0;34m.\u001b[0m\u001b[0mtitle\u001b[0m\u001b[0;34m(\u001b[0m\u001b[0;34m'Match'\u001b[0m\u001b[0;34m)\u001b[0m\u001b[0;34m\u001b[0m\u001b[0;34m\u001b[0m\u001b[0m\n\u001b[1;32m      5\u001b[0m \u001b[0mplt\u001b[0m\u001b[0;34m.\u001b[0m\u001b[0mimshow\u001b[0m\u001b[0;34m(\u001b[0m\u001b[0mim\u001b[0m\u001b[0;34m)\u001b[0m\u001b[0;34m\u001b[0m\u001b[0;34m\u001b[0m\u001b[0m\n",
      "\u001b[0;31mNameError\u001b[0m: name 'plt' is not defined"
     ]
    }
   ],
   "source": [
    "# Test run matching with no ransac\n",
    "plt.figure(figsize=(20, 20))\n",
    "im = utils.Match('./data/scene', './data/basmati', ratio_thres=0.6)\n",
    "plt.title('Match')\n",
    "plt.imshow(im)\n",
    "\n",
    "# Test run matching with ransac\n",
    "plt.figure(figsize=(20, 20))\n",
    "im = utils.MatchRANSAC(\n",
    "    './data/scene', './data/basmati',\n",
    "    ratio_thres=0.6, orient_agreement=30, scale_agreement=0.5)\n",
    "plt.title('MatchRANSAC')\n",
    "plt.imshow(im)"
   ]
  },
  {
   "cell_type": "code",
   "execution_count": null,
   "metadata": {},
   "outputs": [],
   "source": [
    "def RANSACHomography(xy_src, xy_ref, num_iter, tol):\n",
    "    \"\"\"\n",
    "    Given matches of keyponit xy coordinates, perform RANSAC to obtain\n",
    "    the homography matrix. At each iteration, this function randomly\n",
    "    choose 4 matches from xy_src and xy_ref.  Compute the homography matrix\n",
    "    using the 4 matches.  Project all source \"xy_src\" keypoints to the\n",
    "    reference image.  Check how many projected keyponits are within a `tol`\n",
    "    radius to the coresponding xy_ref points (a.k.a. inliers).  During the\n",
    "    iterations, you should keep track of the iteration that yields the largest\n",
    "    inlier set. After the iterations, you should use the biggest inlier set to\n",
    "    compute the final homography matrix.\n",
    "    Inputs:\n",
    "        xy_src: a numpy array of xy coordinates, (num_matches, 2)\n",
    "        xy_ref: a numpy array of xy coordinates, (num_matches, 2)\n",
    "        num_iter: number of RANSAC iterations.\n",
    "        tol: float\n",
    "    Outputs:\n",
    "        h: The final homography matrix.\n",
    "    \"\"\"\n",
    "    assert isinstance(xy_src, np.ndarray)\n",
    "    assert isinstance(xy_ref, np.ndarray)\n",
    "    assert xy_src.shape == xy_ref.shape\n",
    "    assert xy_src.shape[1] == 2\n",
    "    assert isinstance(num_iter, int)\n",
    "    assert isinstance(tol, (int, float))\n",
    "    tol = tol*1.0\n",
    "    # START\n",
    "    cv2.findHomography(xy_src,xy_ref,RANSAC,tol,num_iter)\n",
    "    \n",
    "\n",
    "    # END\n",
    "    assert isinstance(h, np.ndarray)\n",
    "    assert h.shape == (3, 3)\n",
    "    return h\n"
   ]
  },
  {
   "cell_type": "code",
   "execution_count": 14,
   "metadata": {},
   "outputs": [],
   "source": [
    "xy_points = [[i,i] for i in range(30)]\n",
    "xy_points_out = []"
   ]
  },
  {
   "cell_type": "code",
   "execution_count": 7,
   "metadata": {},
   "outputs": [
    {
     "data": {
      "text/plain": [
       "(30, 2)"
      ]
     },
     "execution_count": 7,
     "metadata": {},
     "output_type": "execute_result"
    }
   ],
   "source": [
    "np.array(xy_points).shape"
   ]
  },
  {
   "cell_type": "code",
   "execution_count": 16,
   "metadata": {},
   "outputs": [],
   "source": [
    "for i in range(30):\n",
    "    xy_points_out.append([xy_points[i][0],xy_points[i][1],1])"
   ]
  },
  {
   "cell_type": "code",
   "execution_count": 17,
   "metadata": {},
   "outputs": [
    {
     "data": {
      "text/plain": [
       "[[0, 0, 1],\n",
       " [1, 1, 1],\n",
       " [2, 2, 1],\n",
       " [3, 3, 1],\n",
       " [4, 4, 1],\n",
       " [5, 5, 1],\n",
       " [6, 6, 1],\n",
       " [7, 7, 1],\n",
       " [8, 8, 1],\n",
       " [9, 9, 1],\n",
       " [10, 10, 1],\n",
       " [11, 11, 1],\n",
       " [12, 12, 1],\n",
       " [13, 13, 1],\n",
       " [14, 14, 1],\n",
       " [15, 15, 1],\n",
       " [16, 16, 1],\n",
       " [17, 17, 1],\n",
       " [18, 18, 1],\n",
       " [19, 19, 1],\n",
       " [20, 20, 1],\n",
       " [21, 21, 1],\n",
       " [22, 22, 1],\n",
       " [23, 23, 1],\n",
       " [24, 24, 1],\n",
       " [25, 25, 1],\n",
       " [26, 26, 1],\n",
       " [27, 27, 1],\n",
       " [28, 28, 1],\n",
       " [29, 29, 1]]"
      ]
     },
     "execution_count": 17,
     "metadata": {},
     "output_type": "execute_result"
    }
   ],
   "source": [
    "xy_points_out"
   ]
  },
  {
   "cell_type": "code",
   "execution_count": null,
   "metadata": {},
   "outputs": [],
   "source": []
  }
 ],
 "metadata": {
  "kernelspec": {
   "display_name": "Python 3",
   "language": "python",
   "name": "python3"
  },
  "language_info": {
   "codemirror_mode": {
    "name": "ipython",
    "version": 3
   },
   "file_extension": ".py",
   "mimetype": "text/x-python",
   "name": "python",
   "nbconvert_exporter": "python",
   "pygments_lexer": "ipython3",
   "version": "3.7.3"
  },
  "toc": {
   "base_numbering": 1,
   "nav_menu": {},
   "number_sections": true,
   "sideBar": true,
   "skip_h1_title": false,
   "title_cell": "Table of Contents",
   "title_sidebar": "Contents",
   "toc_cell": false,
   "toc_position": {},
   "toc_section_display": true,
   "toc_window_display": false
  }
 },
 "nbformat": 4,
 "nbformat_minor": 4
}
