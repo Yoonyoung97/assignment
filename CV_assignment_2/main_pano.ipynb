{
 "cells": [
  {
   "cell_type": "code",
   "execution_count": 2,
   "metadata": {},
   "outputs": [
    {
     "ename": "NameError",
     "evalue": "name 'h' is not defined",
     "output_type": "error",
     "traceback": [
      "\u001b[0;31m---------------------------------------------------------------------------\u001b[0m",
      "\u001b[0;31mNameError\u001b[0m                                 Traceback (most recent call last)",
      "\u001b[0;32m<ipython-input-2-4b513bfdff56>\u001b[0m in \u001b[0;36m<module>\u001b[0;34m\u001b[0m\n\u001b[1;32m     58\u001b[0m \u001b[0;34m\u001b[0m\u001b[0m\n\u001b[1;32m     59\u001b[0m \u001b[0;32mif\u001b[0m \u001b[0m__name__\u001b[0m \u001b[0;34m==\u001b[0m \u001b[0;34m'__main__'\u001b[0m\u001b[0;34m:\u001b[0m\u001b[0;34m\u001b[0m\u001b[0;34m\u001b[0m\u001b[0m\n\u001b[0;32m---> 60\u001b[0;31m     \u001b[0mmain\u001b[0m\u001b[0;34m(\u001b[0m\u001b[0;34m)\u001b[0m\u001b[0;34m\u001b[0m\u001b[0;34m\u001b[0m\u001b[0m\n\u001b[0m\u001b[1;32m     61\u001b[0m \u001b[0;34m\u001b[0m\u001b[0m\n\u001b[1;32m     62\u001b[0m \u001b[0;34m\u001b[0m\u001b[0m\n",
      "\u001b[0;32m<ipython-input-2-4b513bfdff56>\u001b[0m in \u001b[0;36mmain\u001b[0;34m()\u001b[0m\n\u001b[1;32m     55\u001b[0m     \u001b[0mimage_list\u001b[0m \u001b[0;34m=\u001b[0m \u001b[0;34m[\u001b[0m\u001b[0mop\u001b[0m\u001b[0;34m.\u001b[0m\u001b[0mjoin\u001b[0m\u001b[0;34m(\u001b[0m\u001b[0mpath\u001b[0m\u001b[0;34m,\u001b[0m \u001b[0mim\u001b[0m\u001b[0;34m)\u001b[0m \u001b[0;32mfor\u001b[0m \u001b[0mim\u001b[0m \u001b[0;32min\u001b[0m \u001b[0mimage_list\u001b[0m\u001b[0;34m]\u001b[0m\u001b[0;34m\u001b[0m\u001b[0;34m\u001b[0m\u001b[0m\n\u001b[1;32m     56\u001b[0m     create_pano(image_list, ratio_thres, canvas_height, canvas_width,\n\u001b[0;32m---> 57\u001b[0;31m                 num_iter, tol, figsize=(20, 20))\n\u001b[0m\u001b[1;32m     58\u001b[0m \u001b[0;34m\u001b[0m\u001b[0m\n\u001b[1;32m     59\u001b[0m \u001b[0;32mif\u001b[0m \u001b[0m__name__\u001b[0m \u001b[0;34m==\u001b[0m \u001b[0;34m'__main__'\u001b[0m\u001b[0;34m:\u001b[0m\u001b[0;34m\u001b[0m\u001b[0;34m\u001b[0m\u001b[0m\n",
      "\u001b[0;32m<ipython-input-2-4b513bfdff56>\u001b[0m in \u001b[0;36mcreate_pano\u001b[0;34m(image_list, ratio_thres, canvas_height, canvas_width, num_iter, tol, figsize)\u001b[0m\n\u001b[1;32m     32\u001b[0m     wrap_list = utils.ProjectImages(\n\u001b[1;32m     33\u001b[0m         \u001b[0mxy_src_list\u001b[0m\u001b[0;34m,\u001b[0m \u001b[0mxy_ref_list\u001b[0m\u001b[0;34m,\u001b[0m \u001b[0mim_list\u001b[0m\u001b[0;34m,\u001b[0m\u001b[0;34m\u001b[0m\u001b[0;34m\u001b[0m\u001b[0m\n\u001b[0;32m---> 34\u001b[0;31m         canvas_height, canvas_width, num_iter, tol)\n\u001b[0m\u001b[1;32m     35\u001b[0m \u001b[0;34m\u001b[0m\u001b[0m\n\u001b[1;32m     36\u001b[0m     \u001b[0;31m# Merge the projected images above\u001b[0m\u001b[0;34m\u001b[0m\u001b[0;34m\u001b[0m\u001b[0;34m\u001b[0m\u001b[0m\n",
      "\u001b[0;32m~/workspace/assignment/CV_assignment_2/hw_utils.py\u001b[0m in \u001b[0;36mProjectImages\u001b[0;34m(xy_src_list, xy_ref_list, im_list, canvas_height, canvas_width, num_iter, tol)\u001b[0m\n\u001b[1;32m    293\u001b[0m     \u001b[0mhomo_list\u001b[0m \u001b[0;34m=\u001b[0m \u001b[0;34m[\u001b[0m\u001b[0;34m]\u001b[0m\u001b[0;34m\u001b[0m\u001b[0;34m\u001b[0m\u001b[0m\n\u001b[1;32m    294\u001b[0m     \u001b[0;32mfor\u001b[0m \u001b[0mxy_src\u001b[0m\u001b[0;34m,\u001b[0m \u001b[0mxy_ref\u001b[0m \u001b[0;32min\u001b[0m \u001b[0mzip\u001b[0m\u001b[0;34m(\u001b[0m\u001b[0mxy_src_list\u001b[0m\u001b[0;34m,\u001b[0m \u001b[0mxy_ref_list\u001b[0m\u001b[0;34m)\u001b[0m\u001b[0;34m:\u001b[0m\u001b[0;34m\u001b[0m\u001b[0;34m\u001b[0m\u001b[0m\n\u001b[0;32m--> 295\u001b[0;31m         \u001b[0mh\u001b[0m \u001b[0;34m=\u001b[0m \u001b[0msol\u001b[0m\u001b[0;34m.\u001b[0m\u001b[0mRANSACHomography\u001b[0m\u001b[0;34m(\u001b[0m\u001b[0mxy_src\u001b[0m\u001b[0;34m,\u001b[0m \u001b[0mxy_ref\u001b[0m\u001b[0;34m,\u001b[0m \u001b[0mnum_iter\u001b[0m\u001b[0;34m,\u001b[0m \u001b[0mtol\u001b[0m\u001b[0;34m)\u001b[0m\u001b[0;34m\u001b[0m\u001b[0;34m\u001b[0m\u001b[0m\n\u001b[0m\u001b[1;32m    296\u001b[0m         \u001b[0mhomo_list\u001b[0m\u001b[0;34m.\u001b[0m\u001b[0mappend\u001b[0m\u001b[0;34m(\u001b[0m\u001b[0mh\u001b[0m\u001b[0;34m)\u001b[0m\u001b[0;34m\u001b[0m\u001b[0;34m\u001b[0m\u001b[0m\n\u001b[1;32m    297\u001b[0m     \u001b[0mwarp_list\u001b[0m \u001b[0;34m=\u001b[0m \u001b[0;34m[\u001b[0m\u001b[0mim_list\u001b[0m\u001b[0;34m[\u001b[0m\u001b[0;36m0\u001b[0m\u001b[0;34m]\u001b[0m\u001b[0;34m]\u001b[0m\u001b[0;34m\u001b[0m\u001b[0;34m\u001b[0m\u001b[0m\n",
      "\u001b[0;32m~/workspace/assignment/CV_assignment_2/solution.py\u001b[0m in \u001b[0;36mRANSACHomography\u001b[0;34m(xy_src, xy_ref, num_iter, tol)\u001b[0m\n\u001b[1;32m    118\u001b[0m \u001b[0;34m\u001b[0m\u001b[0m\n\u001b[1;32m    119\u001b[0m \u001b[0;34m\u001b[0m\u001b[0m\n\u001b[0;32m--> 120\u001b[0;31m \u001b[0;34m\u001b[0m\u001b[0m\n\u001b[0m\u001b[1;32m    121\u001b[0m     \u001b[0;31m# END\u001b[0m\u001b[0;34m\u001b[0m\u001b[0;34m\u001b[0m\u001b[0;34m\u001b[0m\u001b[0m\n\u001b[1;32m    122\u001b[0m     \u001b[0;32massert\u001b[0m \u001b[0misinstance\u001b[0m\u001b[0;34m(\u001b[0m\u001b[0mh\u001b[0m\u001b[0;34m,\u001b[0m \u001b[0mnp\u001b[0m\u001b[0;34m.\u001b[0m\u001b[0mndarray\u001b[0m\u001b[0;34m)\u001b[0m\u001b[0;34m\u001b[0m\u001b[0;34m\u001b[0m\u001b[0m\n",
      "\u001b[0;31mNameError\u001b[0m: name 'h' is not defined"
     ]
    }
   ],
   "source": [
    "import sys\n",
    "import numpy as np\n",
    "import matplotlib.pyplot as plt\n",
    "import os.path as op\n",
    "sys.path = ['../lib'] + sys.path\n",
    "import hw_utils as utils\n",
    "path = './data/'\n",
    "\n",
    "def create_pano(\n",
    "        image_list, ratio_thres,\n",
    "        canvas_height, canvas_width,\n",
    "        num_iter, tol, figsize=(20, 20)):\n",
    "    \"\"\"\n",
    "    This function creates a panorama using a list of images.\n",
    "    Inputs:\n",
    "        image_list: a list of str, the path to each image (without file extensions).\n",
    "        ratio_thres: the ratio test threshold in `FindBestMatches`\n",
    "        canvas_height, canvas_width: The dimension of the canvas\n",
    "        num_iter: num of iterations of performing RANSAC to find the homography matrix.\n",
    "        tol: tolerance for keypoint projection\n",
    "    \"\"\"\n",
    "    # Get the matches from `FindBestMatches`\n",
    "    # xy_src_list: np.array, (matches, 2) in xy format\n",
    "    # xy_ref_list: np.array, (matches, 2) in xy format\n",
    "    # im_list: a list of images in np.array\n",
    "    xy_src_list, xy_ref_list, im_list = utils.PrepareData(\n",
    "        image_list, ratio_thres)\n",
    "\n",
    "    # Use the matches to estimate a homography matrix to the ref image frame\n",
    "    # for each source image. Then project each source image to the reference\n",
    "    # frame using the homography matrix.\n",
    "    wrap_list = utils.ProjectImages(\n",
    "        xy_src_list, xy_ref_list, im_list,\n",
    "        canvas_height, canvas_width, num_iter, tol)\n",
    "\n",
    "    # Merge the projected images above\n",
    "    # Note: the first element is the reference image in warp_list\n",
    "    result = utils.MergeWarppedImages(\n",
    "        canvas_height, canvas_width, wrap_list)\n",
    "\n",
    "    # show the final panorama\n",
    "    plt.figure(figsize=figsize)\n",
    "    plt.imshow(result)\n",
    "    plt.show()\n",
    "\n",
    "\n",
    "def main():\n",
    "    canvas_height = 600\n",
    "    canvas_width = 1000\n",
    "    image_list = ['Rainier1', 'Rainier2', 'Rainier3','Rainier4','Rainier5','Rainier6']\n",
    "\n",
    "    num_iter = 50\n",
    "    tol = 10\n",
    "    ratio_thres = 0.9\n",
    "    image_list = [op.join(path, im) for im in image_list]\n",
    "    create_pano(image_list, ratio_thres, canvas_height, canvas_width,\n",
    "                num_iter, tol, figsize=(20, 20))\n",
    "\n",
    "if __name__ == '__main__':\n",
    "    main()\n",
    "\n",
    "\n",
    "    "
   ]
  },
  {
   "cell_type": "code",
   "execution_count": null,
   "metadata": {},
   "outputs": [],
   "source": []
  }
 ],
 "metadata": {
  "kernelspec": {
   "display_name": "Python 3",
   "language": "python",
   "name": "python3"
  },
  "language_info": {
   "codemirror_mode": {
    "name": "ipython",
    "version": 3
   },
   "file_extension": ".py",
   "mimetype": "text/x-python",
   "name": "python",
   "nbconvert_exporter": "python",
   "pygments_lexer": "ipython3",
   "version": "3.7.3"
  }
 },
 "nbformat": 4,
 "nbformat_minor": 4
}
