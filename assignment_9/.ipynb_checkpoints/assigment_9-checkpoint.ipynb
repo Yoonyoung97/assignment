{
 "cells": [
  {
   "cell_type": "code",
   "execution_count": 1,
   "metadata": {},
   "outputs": [],
   "source": [
    "def dataLoad(Path):\n",
    "    if Path == \"\":\n",
    "        file = open(\"./tube.inp\")\n",
    "    else:\n",
    "        file = open(Path)\n",
    "    Total = int(file.readline().strip())\n",
    "    file.readline().strip();\n",
    "    category = [int(i) for i in file.readline().strip().split()]\n",
    "    category.sort(reverse=True)\n",
    "    file.close()\n",
    "    return Total, category\n",
    "\n",
    "def remainMax(Total, Category):\n",
    "    remainderMax = 10000000;\n",
    "    for i in range(len(Category)):\n",
    "        remainderMax = min(Total%Category[i],remainderMax)\n",
    "    return remainderMax\n",
    "#첫번째: 접근 나머지를 이용해보자\n",
    "def Greedy_ver1(Total, Category):\n",
    "    remainderMax = remainMax(Total,Category)\n",
    "    for i in Category:\n",
    "        if Total%i == remainderMax:\n",
    "            return i\n",
    "def solution_using_remainder(T,C):\n",
    "    count = 0 \n",
    "    element = Greedy_ver1(T,C) \n",
    "    while T- element >= 0:\n",
    "        element = Greedy_ver1(T,C)\n",
    "        count+=1\n",
    "        T = T - element\n",
    "    if T != 0:\n",
    "        count = 0\n",
    "    else:\n",
    "        count = count\n",
    "    return count\n",
    "\n",
    "def DataWrite(count):\n",
    "    file = open(\"./tube.out\" ,\"w\")\n",
    "    file.write(str(count))\n",
    "    file.close()\n",
    "\n",
    "if __name__ ==\"__main__\":    \n",
    "   "
   ]
  },
  {
   "cell_type": "code",
   "execution_count": 4,
   "metadata": {},
   "outputs": [],
   "source": [
    "T , C = dataLoad(\"./SampleData/1.inp\")\n",
    "count = solution_using_remainder(T,C)\n",
    "DataWrite(count)\n"
   ]
  },
  {
   "cell_type": "code",
   "execution_count": 75,
   "metadata": {},
   "outputs": [
    {
     "data": {
      "text/plain": [
       "0"
      ]
     },
     "execution_count": 75,
     "metadata": {},
     "output_type": "execute_result"
    }
   ],
   "source": []
  },
  {
   "cell_type": "code",
   "execution_count": null,
   "metadata": {},
   "outputs": [],
   "source": []
  }
 ],
 "metadata": {
  "kernelspec": {
   "display_name": "Python 3",
   "language": "python",
   "name": "python3"
  },
  "language_info": {
   "codemirror_mode": {
    "name": "ipython",
    "version": 3
   },
   "file_extension": ".py",
   "mimetype": "text/x-python",
   "name": "python",
   "nbconvert_exporter": "python",
   "pygments_lexer": "ipython3",
   "version": "3.7.3"
  }
 },
 "nbformat": 4,
 "nbformat_minor": 4
}
