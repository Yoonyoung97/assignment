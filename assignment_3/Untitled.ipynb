{
 "cells": [
  {
   "cell_type": "code",
   "execution_count": 33,
   "metadata": {},
   "outputs": [],
   "source": [
    "def middle(A,B):\n",
    "    M = (A[0]+B[0])/2,(A[1]+B[1])/2,(A[2]+B[2])/2\n",
    "    return M\n",
    "\n",
    "def Distance(A,B):\n",
    "    D = ((A[0] - B[0])**2 + (A[1] - B[1])**2 + (A[2] - B[2])**2)**0.5\n",
    "    return D"
   ]
  },
  {
   "cell_type": "code",
   "execution_count": 2,
   "metadata": {},
   "outputs": [
    {
     "data": {
      "text/plain": [
       "([350.0, 150.0, 350.0],\n",
       " [0.0, 0.0, 0.0],\n",
       " [10.0, -6.0, 30.0],\n",
       " [56.0, 21.0, 120.0])"
      ]
     },
     "execution_count": 2,
     "metadata": {},
     "output_type": "execute_result"
    }
   ],
   "source": [
    "inp = open('./sampleData3/1.inp',\"r\")\n",
    "out = open('./stube.out',\"w\")\n",
    "A = [float(i) for i in inp.readline().split()]\n",
    "B = [float(i) for i in inp.readline().split()]\n",
    "C = [float(i) for i in inp.readline().split()]\n",
    "D = [float(i) for i in inp.readline().split()]\n",
    "A, B, C, D"
   ]
  },
  {
   "cell_type": "code",
   "execution_count": 49,
   "metadata": {},
   "outputs": [],
   "source": [
    "#초기화\n",
    "distance =\n",
    "point_1 = [A,middle(A,B), B]\n",
    "point_2 = [C,middle(C,D), D]\n",
    "smallestPoint_1 = []\n",
    "smallestPoint_2 = []"
   ]
  },
  {
   "cell_type": "code",
   "execution_count": 46,
   "metadata": {},
   "outputs": [
    {
     "data": {
      "text/plain": [
       "([350.0, 150.0, 350.0],\n",
       " (175.0, 75.0, 175.0),\n",
       " [0.0, 0.0, 0.0],\n",
       " [10.0, -6.0, 30.0],\n",
       " (33.0, 7.5, 75.0),\n",
       " [56.0, 21.0, 120.0])"
      ]
     },
     "execution_count": 46,
     "metadata": {},
     "output_type": "execute_result"
    }
   ],
   "source": [
    "#계산\n",
    "#point_1.clear()\n",
    "#point_2.clear()\n"
   ]
  },
  {
   "cell_type": "code",
   "execution_count": null,
   "metadata": {},
   "outputs": [],
   "source": []
  }
 ],
 "metadata": {
  "kernelspec": {
   "display_name": "Python 3",
   "language": "python",
   "name": "python3"
  },
  "language_info": {
   "codemirror_mode": {
    "name": "ipython",
    "version": 3
   },
   "file_extension": ".py",
   "mimetype": "text/x-python",
   "name": "python",
   "nbconvert_exporter": "python",
   "pygments_lexer": "ipython3",
   "version": "3.7.3"
  }
 },
 "nbformat": 4,
 "nbformat_minor": 4
}
