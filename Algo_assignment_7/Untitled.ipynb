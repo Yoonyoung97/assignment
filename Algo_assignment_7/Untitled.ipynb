{
 "cells": [
  {
   "cell_type": "code",
   "execution_count": 333,
   "metadata": {},
   "outputs": [],
   "source": [
    "def dataLoad(path):\n",
    "    file = open(path)\n",
    "    return file.readline().strip(),file.readline().strip()\n",
    "\n",
    "def lcs(a,b):\n",
    "    a_len = len(a)\n",
    "    b_len = len(b)\n",
    "    dp = []\n",
    "    for i in range(a_len + 1):\n",
    "        dp.append([0 for j in range(b_len + 1)])\n",
    "    for i in range(1, a_len + 1):\n",
    "        for j in range(1, b_len + 1):\n",
    "            if a[i - 1] == b[j - 1]:\n",
    "                dp[i][j] = dp[i - 1][j - 1] + 1\n",
    "            elif j-2 >0 and j < b_len and a[i-1] != b[j-1] and a[i-1] != b[j-2] and a[i-1] != b[j]:\n",
    "                dp[i][j] = 0\n",
    "            else:\n",
    "                dp[i][j] = max(dp[i-1][j], dp[i][j - 1]) if dp[i-1][j] != 0 or dp[i][j-1] !=0 else 0  \n",
    "    max_length = max(max(dp))\n",
    "    return dp, max_length\n",
    "\n",
    "def get_path(a, b, dp, i, j):\n",
    "    if i == 0 or j == 0:\n",
    "        return \"\"\n",
    "    if a[i-1] == b[j-1]:\n",
    "        return get_path(a, b, dp, i-1, j-1) + a[i-1]\n",
    "    else:\n",
    "        if dp[i-1][j] > dp[i][j-1]:\n",
    "            return get_path(a, b, dp, i-1, j)\n",
    "        elif dp[i-1][j] == 0 and dp[i][j-1] == 0 and dp[i-1][j-1] == 0:\n",
    "            return \"\"\n",
    "        else:\n",
    "            return get_path(a, b, dp, i, j-1)\n",
    "        \n",
    "def Maxindex(dp):\n",
    "    Max = 0\n",
    "    H = 0\n",
    "    j = 0 \n",
    "    for i in range(len(dp)):\n",
    "        Max=max(Max,max(dp[i]))\n",
    "    for i in range(len(dp)):\n",
    "        for j in range(len(dp[0])):\n",
    "            if (dp[i][j] == Max):\n",
    "                H,T = i,j\n",
    "    return H,T"
   ]
  },
  {
   "cell_type": "code",
   "execution_count": 337,
   "metadata": {},
   "outputs": [
    {
     "name": "stdout",
     "output_type": "stream",
     "text": [
      "UndDDnd\n"
     ]
    },
    {
     "data": {
      "text/plain": [
       "(8, 7)"
      ]
     },
     "execution_count": 337,
     "metadata": {},
     "output_type": "execute_result"
    }
   ],
   "source": [
    "A,B = dataLoad('./sampleData7/2.inp')\n",
    "dp, leng = lcs(A,B)\n",
    "file = open('./gLCS.out','w')\n",
    "i,j = Maxindex(dp)\n",
    "string = get_path(A,B,dp,i,j)\n",
    "file.write(string[len(string)-leng:])\n",
    "print(string[len(string)-leng:])\n",
    "len(string),leng"
   ]
  },
  {
   "cell_type": "code",
   "execution_count": 301,
   "metadata": {},
   "outputs": [
    {
     "ename": "NameError",
     "evalue": "name 'nduuUnDDUndDDDnDddnndDUu' is not defined",
     "output_type": "error",
     "traceback": [
      "\u001b[0;31m---------------------------------------------------------------------------\u001b[0m",
      "\u001b[0;31mNameError\u001b[0m                                 Traceback (most recent call last)",
      "\u001b[0;32m<ipython-input-301-45a4f471ba2e>\u001b[0m in \u001b[0;36m<module>\u001b[0;34m\u001b[0m\n\u001b[0;32m----> 1\u001b[0;31m \u001b[0mnduuUnDDUndDDDnDddnndDUu\u001b[0m\u001b[0;34m\u001b[0m\u001b[0;34m\u001b[0m\u001b[0m\n\u001b[0m\u001b[1;32m      2\u001b[0m \u001b[0mddnUndDDnduundDUuUnD\u001b[0m\u001b[0;34m\u001b[0m\u001b[0;34m\u001b[0m\u001b[0m\n\u001b[1;32m      3\u001b[0m \u001b[0mU\u001b[0m\u001b[0;34m\u001b[0m\u001b[0;34m\u001b[0m\u001b[0m\n",
      "\u001b[0;31mNameError\u001b[0m: name 'nduuUnDDUndDDDnDddnndDUu' is not defined"
     ]
    }
   ],
   "source": [
    "nduuUnDDUndDDDnDddnndDUu\n",
    "ddnUndDDnduundDUuUnD\n",
    "U"
   ]
  },
  {
   "cell_type": "code",
   "execution_count": null,
   "metadata": {},
   "outputs": [],
   "source": []
  }
 ],
 "metadata": {
  "kernelspec": {
   "display_name": "Python 3",
   "language": "python",
   "name": "python3"
  },
  "language_info": {
   "codemirror_mode": {
    "name": "ipython",
    "version": 3
   },
   "file_extension": ".py",
   "mimetype": "text/x-python",
   "name": "python",
   "nbconvert_exporter": "python",
   "pygments_lexer": "ipython3",
   "version": "3.7.3"
  }
 },
 "nbformat": 4,
 "nbformat_minor": 4
}
