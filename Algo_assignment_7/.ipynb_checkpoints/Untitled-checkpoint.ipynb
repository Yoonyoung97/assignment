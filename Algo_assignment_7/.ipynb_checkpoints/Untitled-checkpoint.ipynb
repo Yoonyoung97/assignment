{
 "cells": [
  {
   "cell_type": "code",
   "execution_count": 212,
   "metadata": {},
   "outputs": [],
   "source": [
    "def dataLoad(path):\n",
    "    file = open(path)\n",
    "    return file.readline().strip(),file.readline().strip()\n",
    "\n",
    "def lcs(a,b):\n",
    "    a_len = len(a)\n",
    "    b_len = len(b)\n",
    "    dp = []\n",
    "    for i in range(a_len + 1):\n",
    "        dp.append([0 for j in range(b_len + 1)])\n",
    "    for i in range(1, a_len + 1):\n",
    "        for j in range(1, b_len + 1):\n",
    "            if a[i - 1] == b[j - 1]:\n",
    "                dp[i][j] = dp[i - 1][j - 1] + 1\n",
    "            else:\n",
    "                dp[i][j] = max(dp[i-1][j], dp[i][j - 1])\n",
    "    max_length = dp[a_len][b_len]\n",
    "    return dp, max_length\n",
    "\n",
    "def get_path(a, b, dp, i, j):\n",
    "    if i == 0 or j == 0:\n",
    "        return \"\"\n",
    "    if a[i-1] == b[j-1]:\n",
    "        return get_path(a, b, dp, i-1, j-1) + a[i-1]\n",
    "    else:\n",
    "        if dp[i-1][j] > dp[i][j-1]:\n",
    "            return get_path(a, b, dp, i-1, j)\n",
    "        else:\n",
    "            return get_path(a, b, dp, i, j-1)"
   ]
  },
  {
   "cell_type": "code",
   "execution_count": 218,
   "metadata": {},
   "outputs": [
    {
     "data": {
      "text/plain": [
       "9"
      ]
     },
     "execution_count": 218,
     "metadata": {},
     "output_type": "execute_result"
    }
   ],
   "source": [
    "A,B = dataLoad('./gLCS.inp')\n",
    "dp, leng = lcs(A,B)\n",
    "file = open('./gLCS.out','w')\n",
    "file.write(get_path(A,B,dp,len(A),len(B)))"
   ]
  },
  {
   "cell_type": "code",
   "execution_count": null,
   "metadata": {},
   "outputs": [],
   "source": []
  }
 ],
 "metadata": {
  "kernelspec": {
   "display_name": "Python 3",
   "language": "python",
   "name": "python3"
  },
  "language_info": {
   "codemirror_mode": {
    "name": "ipython",
    "version": 3
   },
   "file_extension": ".py",
   "mimetype": "text/x-python",
   "name": "python",
   "nbconvert_exporter": "python",
   "pygments_lexer": "ipython3",
   "version": "3.7.3"
  }
 },
 "nbformat": 4,
 "nbformat_minor": 4
}
