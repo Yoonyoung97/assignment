{
 "cells": [
  {
   "cell_type": "code",
   "execution_count": 105,
   "metadata": {},
   "outputs": [],
   "source": [
    "\n",
    "#inp = open(\"./cards.inp\", \"r\")\n"
   ]
  },
  {
   "cell_type": "code",
   "execution_count": 15,
   "metadata": {},
   "outputs": [
    {
     "ename": "FileNotFoundError",
     "evalue": "[Errno 2] No such file or directory: './cards.inp'",
     "output_type": "error",
     "traceback": [
      "\u001b[0;31m---------------------------------------------------------------------------\u001b[0m",
      "\u001b[0;31mFileNotFoundError\u001b[0m                         Traceback (most recent call last)",
      "\u001b[0;32m<ipython-input-15-bad5b2e046e8>\u001b[0m in \u001b[0;36m<module>\u001b[0;34m\u001b[0m\n\u001b[1;32m      1\u001b[0m \u001b[0;32mif\u001b[0m \u001b[0m__name__\u001b[0m \u001b[0;34m==\u001b[0m \u001b[0;34m\"__main__\"\u001b[0m\u001b[0;34m:\u001b[0m\u001b[0;34m\u001b[0m\u001b[0;34m\u001b[0m\u001b[0m\n\u001b[0;32m----> 2\u001b[0;31m     \u001b[0massignment\u001b[0m\u001b[0;34m(\u001b[0m\u001b[0;34m\"./cards.inp\"\u001b[0m\u001b[0;34m)\u001b[0m\u001b[0;34m\u001b[0m\u001b[0;34m\u001b[0m\u001b[0m\n\u001b[0m\u001b[1;32m      3\u001b[0m     \u001b[0mout\u001b[0m \u001b[0;34m=\u001b[0m \u001b[0mopen\u001b[0m\u001b[0;34m(\u001b[0m\u001b[0;34m\"./cards.out\"\u001b[0m\u001b[0;34m,\u001b[0m \u001b[0;34m\"r\"\u001b[0m\u001b[0;34m)\u001b[0m\u001b[0;34m\u001b[0m\u001b[0;34m\u001b[0m\u001b[0m\n\u001b[1;32m      4\u001b[0m     \u001b[0;32mfor\u001b[0m \u001b[0mi\u001b[0m \u001b[0;32min\u001b[0m \u001b[0mout\u001b[0m\u001b[0;34m:\u001b[0m\u001b[0;34m\u001b[0m\u001b[0;34m\u001b[0m\u001b[0m\n\u001b[1;32m      5\u001b[0m         \u001b[0mprint\u001b[0m\u001b[0;34m(\u001b[0m\u001b[0mi\u001b[0m\u001b[0;34m)\u001b[0m\u001b[0;34m\u001b[0m\u001b[0;34m\u001b[0m\u001b[0m\n",
      "\u001b[0;32m<ipython-input-11-a6893ce7ee70>\u001b[0m in \u001b[0;36massignment\u001b[0;34m(path)\u001b[0m\n\u001b[1;32m      1\u001b[0m \u001b[0;32mdef\u001b[0m \u001b[0massignment\u001b[0m\u001b[0;34m(\u001b[0m\u001b[0mpath\u001b[0m\u001b[0;34m)\u001b[0m\u001b[0;34m:\u001b[0m\u001b[0;34m\u001b[0m\u001b[0;34m\u001b[0m\u001b[0m\n\u001b[0;32m----> 2\u001b[0;31m     \u001b[0minp\u001b[0m \u001b[0;34m=\u001b[0m \u001b[0mopen\u001b[0m\u001b[0;34m(\u001b[0m\u001b[0mpath\u001b[0m\u001b[0;34m,\u001b[0m \u001b[0;34m\"r\"\u001b[0m\u001b[0;34m)\u001b[0m\u001b[0;34m\u001b[0m\u001b[0;34m\u001b[0m\u001b[0m\n\u001b[0m\u001b[1;32m      3\u001b[0m     \u001b[0mcount\u001b[0m \u001b[0;34m=\u001b[0m \u001b[0mint\u001b[0m\u001b[0;34m(\u001b[0m\u001b[0minp\u001b[0m\u001b[0;34m.\u001b[0m\u001b[0mreadline\u001b[0m\u001b[0;34m(\u001b[0m\u001b[0;34m)\u001b[0m\u001b[0;34m.\u001b[0m\u001b[0mrstrip\u001b[0m\u001b[0;34m(\u001b[0m\u001b[0;34m'\\n'\u001b[0m\u001b[0;34m)\u001b[0m\u001b[0;34m)\u001b[0m\u001b[0;34m\u001b[0m\u001b[0;34m\u001b[0m\u001b[0m\n\u001b[1;32m      4\u001b[0m     \u001b[0mout\u001b[0m \u001b[0;34m=\u001b[0m \u001b[0mopen\u001b[0m\u001b[0;34m(\u001b[0m\u001b[0;34m\"./cards.out\"\u001b[0m\u001b[0;34m,\u001b[0m \u001b[0;34m\"w\"\u001b[0m\u001b[0;34m)\u001b[0m\u001b[0;34m\u001b[0m\u001b[0;34m\u001b[0m\u001b[0m\n\u001b[1;32m      5\u001b[0m     \u001b[0miterator\u001b[0m \u001b[0;34m=\u001b[0m \u001b[0;36m1\u001b[0m\u001b[0;34m\u001b[0m\u001b[0;34m\u001b[0m\u001b[0m\n",
      "\u001b[0;31mFileNotFoundError\u001b[0m: [Errno 2] No such file or directory: './cards.inp'"
     ]
    }
   ],
   "source": [
    "if __name__ == \"__main__\":\n",
    "    assignment(\"./cards.inp\")\n",
    "    out = open(\"./cards.out\", \"r\")\n",
    "    for i in out:\n",
    "        print(i)"
   ]
  },
  {
   "cell_type": "code",
   "execution_count": 116,
   "metadata": {},
   "outputs": [
    {
     "data": {
      "text/plain": [
       "([100.0, 300.0, 254.0],\n",
       " [-254.0, 100.0, -300.0],\n",
       " [0.0, 0.0, 0.0],\n",
       " [354.0, 200.0, 554.0])"
      ]
     },
     "execution_count": 116,
     "metadata": {},
     "output_type": "execute_result"
    }
   ],
   "source": [
    "A,B,P,u1"
   ]
  },
  {
   "cell_type": "code",
   "execution_count": 26,
   "metadata": {},
   "outputs": [
    {
     "name": "stdout",
     "output_type": "stream",
     "text": [
      "t == 0\n"
     ]
    }
   ],
   "source": [
    "import math\n",
    "\n",
    "inp = open('./sampleData2/3.inp',\"r\")\n",
    "out = open('./station.out',\"w\")\n",
    "A = [float(i) for i in inp.readline().split()]\n",
    "B = [float(i) for i in inp.readline().split()]\n",
    "P = [float(i) for i in inp.readline().split()]\n",
    "u1 = [B[0] - A[0], B[1] - A[1], B[2]-A[2]] # 직선의 방향 벡터 \n",
    "distance = []\n",
    "\n",
    "isright = False\n",
    "t = 1\n",
    "while not isright:\n",
    "    S = [t*B[0] + (1-t)*A[0], t*B[1] + (1-t)*A[1], t*B[2] + (1-t)*A[2]]\n",
    "    u2 =[S[0] - P[0], S[1] - P[1], S[2] - P[2]] # S위 임의의 점 T와 P의 방향벡터 \n",
    "    if u1 == [0,0,0]:\n",
    "        angleValue = (u1[0]*u2[0] + u1[1]*u2[1] + u1[2]*u2[2])/ math.sqrt(u2[0]**2 + u2[1]**2 + u2[2]**2)\n",
    "    elif u2 == [0,0,0]:\n",
    "        angleValue = (u1[0]*u2[0] + u1[1]*u2[1] + u1[2]*u2[2])/(math.sqrt(u1[0]**2 + u1[1]**2 + u1[2]**2))\n",
    "    else :\n",
    "        angleValue = (u1[0]*u2[0] + u1[1]*u2[1] + u1[2]*u2[2])/((u1[0]**2 + u1[1]**2 + u1[2]**2)*(u2[0]**2 + u2[1]**2 + u2[2]**2))**0.5\n",
    "    if angleValue > 1 :\n",
    "        angleValue = 1\n",
    "    angle = math.degrees(math.acos(angleValue))\n",
    "    # t 는 더하면 B쪽으로 \n",
    "    # t 는 뺴면 A쪽으로\n",
    "    # 0 < t < 1\n",
    "    t -=0.0001\n",
    "    t = round(t,4)\n",
    "    Distance = ((S[0] - P[0])**2 + (S[1] - P[1])**2 + (S[2] - P[2])**2)**0.5\n",
    "    distance.append(Distance)\n",
    "    if t == 0:\n",
    "        print(\"t == 0\")\n",
    "        isright = True\n",
    "Distance = int(min(distance)//1 + 1)\n",
    "\n",
    "      \n",
    "out.write(str(Distance)+'\\n')\n",
    "out.close()\n",
    "inp.close()"
   ]
  },
  {
   "cell_type": "code",
   "execution_count": 198,
   "metadata": {},
   "outputs": [],
   "source": []
  },
  {
   "cell_type": "code",
   "execution_count": null,
   "metadata": {},
   "outputs": [],
   "source": []
  }
 ],
 "metadata": {
  "kernelspec": {
   "display_name": "Python 3",
   "language": "python",
   "name": "python3"
  },
  "language_info": {
   "codemirror_mode": {
    "name": "ipython",
    "version": 3
   },
   "file_extension": ".py",
   "mimetype": "text/x-python",
   "name": "python",
   "nbconvert_exporter": "python",
   "pygments_lexer": "ipython3",
   "version": "3.7.3"
  }
 },
 "nbformat": 4,
 "nbformat_minor": 4
}
